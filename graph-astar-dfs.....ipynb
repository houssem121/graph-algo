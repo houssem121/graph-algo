{
  "nbformat": 4,
  "nbformat_minor": 0,
  "metadata": {
    "colab": {
      "provenance": []
    },
    "kernelspec": {
      "name": "python3",
      "display_name": "Python 3"
    },
    "language_info": {
      "name": "python"
    }
  },
  "cells": [
    {
      "cell_type": "markdown",
      "source": [
        "\n",
        "\n",
        "#Algorithme amélioré\n",
        "\n"
      ],
      "metadata": {
        "id": "ZgduTy0xj9gv"
      }
    },
    {
      "cell_type": "code",
      "source": [
        "visited=[]\n",
        "Frontiere=[]\n",
        "def rech_largeur(N,B,G):\n",
        "  Frontiere.append(N)\n",
        "  while (len(Frontiere)!=0):\n",
        "    print(Frontiere)\n",
        "    NC=Frontiere.pop(0)\n",
        "\n",
        "    if NC==B:\n",
        "      return  \"Trouve\"\n",
        "    elif NC not in visited:\n",
        "      visited.append(NC)\n",
        "    for i in G[NC]:\n",
        "      if i not in visited:\n",
        "         Frontiere.append(i)\n",
        "  return \"Echec\"\n",
        "\n",
        "G = {\n",
        "    'A': ['B','D', 'H'],\n",
        "    'B': ['F'],\n",
        "    'C': ['D'],\n",
        "    'D': ['E','G'],\n",
        "    'E': ['K','A','C'],\n",
        "    'F': ['G'],\n",
        "    'H':['B','K'],\n",
        "    'K':['B'],\n",
        "    'G':['A','C']\n",
        "}\n",
        "\n",
        "result =rech_largeur('G', 'K', G)\n",
        "print(result,visited)\n",
        "\n",
        "def rech_largeurs(N, B, G):\n",
        "    Frontiere = [N]\n",
        "    visited = []\n",
        "\n",
        "    while len(Frontiere) != 0:\n",
        "        print(Frontiere)\n",
        "        NC = Frontiere.pop(0)\n",
        "\n",
        "        if NC == B:\n",
        "            return \"Found\",visited\n",
        "        elif NC not in visited:\n",
        "            visited.append(NC)\n",
        "\n",
        "        for i in G.get(NC, {}):\n",
        "            if i not in visited:\n",
        "                Frontiere.append(i)\n",
        "\n",
        "    return \"Failure\"\n",
        "\n",
        "# Example usage\n",
        "start_node = 'G'\n",
        "goal_node = 'K'\n",
        "graph = {\n",
        "    'A': {'B': 5, 'D': 10, 'H': 10},\n",
        "    'B': {'F': 5},\n",
        "    'C': {'D': 5},\n",
        "    'D': {'E': 5, 'G': 10},\n",
        "    'E': {'K': 10, 'A': 5, 'C': 10},\n",
        "    'F': {'G': 10},\n",
        "    'H': {'B': 5, 'K': 20},\n",
        "    'K': {'B': 10},\n",
        "    'G': {'A': 10, 'C': 5}\n",
        "}\n",
        "\n",
        "result = rech_largeurs(start_node, goal_node, graph)\n",
        "print(result)\n"
      ],
      "metadata": {
        "colab": {
          "base_uri": "https://localhost:8080/"
        },
        "id": "_62QvQy5j-_0",
        "outputId": "e93db817-4d62-4a02-a155-38ff08e629a4"
      },
      "execution_count": null,
      "outputs": [
        {
          "output_type": "stream",
          "name": "stdout",
          "text": [
            "['G']\n",
            "['A', 'C']\n",
            "['C', 'B', 'D', 'H']\n",
            "['B', 'D', 'H', 'D']\n",
            "['D', 'H', 'D', 'F']\n",
            "['H', 'D', 'F', 'E']\n",
            "['D', 'F', 'E', 'K']\n",
            "['F', 'E', 'K', 'E']\n",
            "['E', 'K', 'E']\n",
            "['K', 'E', 'K']\n",
            "Trouve ['G', 'A', 'C', 'B', 'D', 'H', 'F', 'E']\n",
            "['G']\n",
            "['A', 'C']\n",
            "['C', 'B', 'D', 'H']\n",
            "['B', 'D', 'H', 'D']\n",
            "['D', 'H', 'D', 'F']\n",
            "['H', 'D', 'F', 'E']\n",
            "['D', 'F', 'E', 'K']\n",
            "['F', 'E', 'K', 'E']\n",
            "['E', 'K', 'E']\n",
            "['K', 'E', 'K']\n",
            "('Found', ['G', 'A', 'C', 'B', 'D', 'H', 'F', 'E'])\n"
          ]
        }
      ]
    },
    {
      "cell_type": "markdown",
      "source": [
        "\n",
        "#Uniform Cost SEARCH\n",
        "\n",
        "\n"
      ],
      "metadata": {
        "id": "8cBxTw30uM2i"
      }
    },
    {
      "cell_type": "code",
      "source": [
        "\n",
        "\n",
        "\n",
        "\n",
        "def Rech_CoutU(N,B,G):\n",
        "  Frontiere=[]\n",
        "  visited=[]\n",
        "  Frontiere.append([N,0])\n",
        "  while (len(Frontiere)!=0):\n",
        "    print(Frontiere)\n",
        "    NC=Frontiere.pop(0)\n",
        "    if NC[0]==B:\n",
        "      return  \"Trouve\",NC,visited\n",
        "    elif NC[0] not in visited:\n",
        "      visited.append(NC[0])\n",
        "    for i in G[NC[0]]:\n",
        "      if i not in visited:\n",
        "        newi=[i,G[NC[0]][i]+NC[1]]\n",
        "        Frontiere.append(newi)\n",
        "    Frontiere= sorted(Frontiere, key=lambda x: x[1])\n",
        "  return \"Echec\"\n",
        "\n",
        "G = {\n",
        "    'A': {'B': 5, 'D': 10, 'H': 10},\n",
        "    'B': {'F': 5},\n",
        "    'C': {'D': 5},\n",
        "    'D': {'E': 5, 'G': 10},\n",
        "    'E': {'K': 10, 'A': 5, 'C': 10},\n",
        "    'F': {'G': 10},\n",
        "    'H': {'B': 5, 'K': 20},\n",
        "    'K': {'B': 10},\n",
        "    'G': {'A': 10, 'C': 5}\n",
        "}\n",
        "heuristic_values = {\n",
        "    'A': 20,\n",
        "    'B': 15,\n",
        "    'C': 8,\n",
        "    'D': 12,\n",
        "    'E': 18,\n",
        "    'F': 10,\n",
        "    'G': 5,\n",
        "    'H': 25,\n",
        "    'K': 0,\n",
        "}\n",
        "\n",
        "result,nc,v =Rech_CoutU('G', 'K', G)\n",
        "print(result,nc ,v)"
      ],
      "metadata": {
        "colab": {
          "base_uri": "https://localhost:8080/"
        },
        "id": "CWLGjykwza67",
        "outputId": "b95a2c1b-78e8-42dd-a25c-5846724ebe66"
      },
      "execution_count": null,
      "outputs": [
        {
          "output_type": "stream",
          "name": "stdout",
          "text": [
            "[['G', 0]]\n",
            "[['C', 5], ['A', 10]]\n",
            "[['A', 10], ['D', 10]]\n",
            "[['D', 10], ['B', 15], ['D', 20], ['H', 20]]\n",
            "[['B', 15], ['E', 15], ['D', 20], ['H', 20]]\n",
            "[['E', 15], ['D', 20], ['H', 20], ['F', 20]]\n",
            "[['D', 20], ['H', 20], ['F', 20], ['K', 25]]\n",
            "[['H', 20], ['F', 20], ['K', 25]]\n",
            "[['F', 20], ['K', 25], ['K', 40]]\n",
            "[['K', 25], ['K', 40]]\n",
            "Trouve ['K', 25] ['G', 'C', 'A', 'D', 'B', 'E', 'H', 'F']\n"
          ]
        }
      ]
    },
    {
      "cell_type": "markdown",
      "source": [
        "![Rech_CoutU.png](data:image/png;base64,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)"
      ],
      "metadata": {
        "id": "_2pmbi69-M4W"
      }
    },
    {
      "cell_type": "markdown",
      "source": [
        "#  Depth-first search"
      ],
      "metadata": {
        "id": "Tb0qRJm0_7R7"
      }
    },
    {
      "cell_type": "code",
      "execution_count": null,
      "metadata": {
        "colab": {
          "base_uri": "https://localhost:8080/"
        },
        "id": "c1mRFXLcTr47",
        "outputId": "d3f5a68c-3235-49d8-ee2d-4a79e1124486"
      },
      "outputs": [
        {
          "output_type": "stream",
          "name": "stdout",
          "text": [
            "Trouve ['A', 'B', 'D', 'M', 'C', 'F']\n"
          ]
        }
      ],
      "source": [
        "v1=[]\n",
        "def rechpro(N,B,G):\n",
        "  if (N==B):\n",
        "    return \"Trouve\"\n",
        "  v1.append(N)\n",
        "  for i in G[N]:\n",
        "    if i not in v1:\n",
        "      res=rechpro(i,B,G)\n",
        "      if res == \"Trouve\":\n",
        "        return  \"Trouve\"\n",
        "  return \"Echec\"\n",
        "\n",
        "G = {\n",
        "    'A': ['B', 'C'],\n",
        "    'B': ['D', 'C'],\n",
        "    'C': ['F','E'],\n",
        "    'D': ['M'],\n",
        "    'E': [],\n",
        "    'F': [],\n",
        "    'M':[]\n",
        "}\n",
        "\n",
        "result = rechpro('A', 'E', G)\n",
        "print(result,v1)\n"
      ]
    },
    {
      "cell_type": "code",
      "source": [
        "v2=[]\n",
        "def rech_pro_lim(N,B,L,G,max):\n",
        "  if L<=max:\n",
        "    if (N==B):\n",
        "      return \"Trouve\"\n",
        "    elif N not in v2:\n",
        "       v2.append(N)\n",
        "    for i in G[N]:\n",
        "      if i not in v2:\n",
        "        res=rech_pro_lim(i,B,L+1,G,max)\n",
        "        if res == \"Trouve\":\n",
        "          return  \"Trouve\"\n",
        "  return \"Echec\"\n",
        "\n",
        "\n",
        "G = {\n",
        "    'A': ['B','C'],\n",
        "    'B': ['A'],\n",
        "    'C': ['F','D'],\n",
        "    'D': ['C'],\n",
        "    'E': [],\n",
        "    'F': ['M'],\n",
        "    'M':['E']\n",
        "}\n",
        "\n",
        "result = rech_pro_lim('A', 'E',0, G,4)\n",
        "print(result,v2)\n",
        "\n"
      ],
      "metadata": {
        "colab": {
          "base_uri": "https://localhost:8080/"
        },
        "id": "OO2FPEDSDluu",
        "outputId": "25607a9d-8cd7-45cd-be50-2f473527e16e"
      },
      "execution_count": null,
      "outputs": [
        {
          "output_type": "stream",
          "name": "stdout",
          "text": [
            "Trouve ['A', 'B', 'C', 'F', 'M']\n"
          ]
        }
      ]
    },
    {
      "cell_type": "markdown",
      "source": [
        "# IDS"
      ],
      "metadata": {
        "id": "PWcJYIwyHyCJ"
      }
    },
    {
      "cell_type": "code",
      "source": [
        "\n",
        "def rech_pro_lims(N, B, L, G, max, v2):\n",
        "    if L <= max:\n",
        "        if N == B:\n",
        "            return \"Trouve\"\n",
        "        v2.append(N)\n",
        "        for i in G[N]:\n",
        "            if i not in v2:\n",
        "                res = rech_pro_lims(i, B, L + 1, G, max, v2)\n",
        "                if res == \"Trouve\":\n",
        "                    return \"Trouve\"\n",
        "    return \"Echec\"\n",
        "\n",
        "def rech_pro_iter(N, B, lmax, G):\n",
        "    for i in range(lmax + 1):\n",
        "        v2 = []\n",
        "        res = rech_pro_lims(N, B,0, G, i + 1, v2)\n",
        "        if res == \"Trouve\":\n",
        "            return \"Trouve\", v2\n",
        "    return \"Echec\", v2\n",
        "\n",
        "G = {\n",
        "    'A': ['B', 'C'],\n",
        "    'B': ['C'],\n",
        "    'C': ['F', 'D'],\n",
        "    'D': ['C'],\n",
        "    'E': [],\n",
        "    'F': ['M'],\n",
        "    'M': ['E']\n",
        "}\n",
        "\n",
        "result1, path = rech_pro_iter('A', 'M', 6, G)\n",
        "print(result1, path)\n"
      ],
      "metadata": {
        "colab": {
          "base_uri": "https://localhost:8080/"
        },
        "id": "CRhCU2WiH0Qh",
        "outputId": "11829fc4-9d91-4536-ec23-56d38760f8f7"
      },
      "execution_count": null,
      "outputs": [
        {
          "output_type": "stream",
          "name": "stdout",
          "text": [
            "Trouve ['A', 'B', 'C', 'F']\n"
          ]
        }
      ]
    },
    {
      "cell_type": "markdown",
      "source": [
        "bfs\n"
      ],
      "metadata": {
        "id": "gWUDMLBlTlRJ"
      }
    },
    {
      "cell_type": "code",
      "source": [
        "def rech_bfs(N, B, G, heuristic_values):\n",
        "    frontiere=[]\n",
        "    visited=[]\n",
        "    frontiere.append([N, 0, heuristic_values[N]])\n",
        "\n",
        "    while frontiere:\n",
        "        print(frontiere)\n",
        "        current_node, cost, heuristic = frontiere.pop(0)\n",
        "\n",
        "        if current_node == B:\n",
        "            return \"Trouve\",current_node,cost,visited\n",
        "        visited.append(current_node)\n",
        "        for neighbor in G[current_node]:\n",
        "          if neighbor not in visited:\n",
        "              frontiere.append([neighbor, 0, heuristic_values[neighbor]])\n",
        "\n",
        "        frontiere = sorted(frontiere, key=lambda x: x[2])\n",
        "\n",
        "    return \"Echec\"\n",
        "\n",
        "\n",
        "\n",
        "G = {\n",
        "    'A': {'B': 5, 'D': 10, 'H': 10},\n",
        "    'B': {'F': 5},\n",
        "    'C': {'D': 5},\n",
        "    'D': {'E': 5, 'G': 10},\n",
        "    'E': {'K': 10, 'A': 5, 'C': 10},\n",
        "    'F': {'G': 10},\n",
        "    'H': {'B': 5, 'K': 20},\n",
        "    'K': {'B': 10},\n",
        "    'G': {'A': 10, 'C': 5}\n",
        "}\n",
        "heuristic_values = {\n",
        "    'A': 11,\n",
        "    'B': 20,\n",
        "    'C':10,\n",
        "    'D': 5,\n",
        "    'E': 10,\n",
        "    'F': 10,\n",
        "    'G': 10,\n",
        "    'H': 20,\n",
        "    'K': 0,\n",
        "}\n",
        "\n",
        "result =rech_bfs('G', 'K', G,heuristic_values)\n",
        "print(result)"
      ],
      "metadata": {
        "colab": {
          "base_uri": "https://localhost:8080/"
        },
        "id": "Xcg43TfgTk5X",
        "outputId": "821f5987-bf98-456b-cee7-33e2e531a264"
      },
      "execution_count": null,
      "outputs": [
        {
          "output_type": "stream",
          "name": "stdout",
          "text": [
            "[['G', 0, 10]]\n",
            "[['C', 0, 10], ['A', 0, 11]]\n",
            "[['D', 0, 5], ['A', 0, 11]]\n",
            "[['E', 0, 10], ['A', 0, 11]]\n",
            "[['K', 0, 0], ['A', 0, 11], ['A', 0, 11]]\n",
            "('Trouve', 'K', 0, ['G', 'C', 'D', 'E'])\n"
          ]
        }
      ]
    },
    {
      "cell_type": "markdown",
      "source": [
        "A*"
      ],
      "metadata": {
        "id": "d5VOkOH9fNw5"
      }
    },
    {
      "cell_type": "code",
      "source": [
        "\n",
        "\n",
        "\n",
        "def rech_astar(N, B, G, heuristic_values):\n",
        "    open_list = []\n",
        "    closed_list = []\n",
        "    open_list.append([N, 0, heuristic_values[N]])\n",
        "    while open_list:\n",
        "        current_node, cost, f = open_list.pop(0)\n",
        "        closed_list.append([current_node,cost,f])\n",
        "\n",
        "        if current_node == B:\n",
        "            return \"Trouve\", (current_node, cost),closed_list\n",
        "\n",
        "\n",
        "        for successor in G[current_node]:\n",
        "            if successor not in [item[0] for item in closed_list]:\n",
        "                new_g =cost+G[current_node][successor]\n",
        "                if successor not in [item[0] for item in open_list]:\n",
        "                  open_list.append([successor,new_g,new_g+heuristic_values[successor]])\n",
        "                else:\n",
        "                   for item in open_list:\n",
        "                      if item[0] == successor:\n",
        "                           if new_g < item[1]:\n",
        "                             item[1] = new_g\n",
        "                             item[2] = new_g + heuristic_values[successor]\n",
        "                           break\n",
        "            open_list = sorted(open_list, key=lambda x: x[2])\n",
        "\n",
        "    return \"Echec\"\n",
        "\n",
        "\n",
        "\n",
        "\n",
        "\n",
        "# Example usage:\n",
        "G = {\n",
        "    'A': {'B': 5, 'D': 10, 'H': 10},\n",
        "    'B': {'F': 5},\n",
        "    'C': {'D': 5},\n",
        "    'D': {'E': 5, 'G': 10},\n",
        "    'E': {'K': 10, 'A': 5, 'C': 10},\n",
        "    'F': {'G': 10},\n",
        "    'H': {'B': 5, 'K': 20},\n",
        "    'K': {'B': 10},\n",
        "    'G': {'A': 10, 'C': 5}\n",
        "}\n",
        "\n",
        "heuristic_values = {\n",
        "    'A': 10,\n",
        "    'B': 20,\n",
        "    'C': 10,\n",
        "    'D': 5,\n",
        "    'E': 10,\n",
        "    'F': 10,\n",
        "    'G': 10,\n",
        "    'H': 10,\n",
        "    'K': 0,\n",
        "}\n",
        "\n",
        "result = rech_astar('G', 'K', G, heuristic_values)\n",
        "print(result)\n"
      ],
      "metadata": {
        "colab": {
          "base_uri": "https://localhost:8080/"
        },
        "id": "hjKNIYXRexNI",
        "outputId": "2a8a9854-22a8-46fb-d49e-34f7efa8a7d7"
      },
      "execution_count": null,
      "outputs": [
        {
          "output_type": "stream",
          "name": "stdout",
          "text": [
            "('Trouve', ('K', 25), [['G', 0, 10], ['C', 5, 15], ['D', 10, 15], ['A', 10, 20], ['E', 15, 25], ['K', 25, 25]])\n"
          ]
        }
      ]
    }
  ]
}